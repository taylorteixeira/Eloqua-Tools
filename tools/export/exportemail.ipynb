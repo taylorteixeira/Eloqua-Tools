{
 "cells": [
  {
   "cell_type": "code",
   "execution_count": 2,
   "metadata": {},
   "outputs": [
    {
     "name": "stdout",
     "output_type": "stream",
     "text": [
      "Logs salvos com sucesso em eloqua_2023_EmailOpen_1.xlsx!\n",
      "Logs salvos com sucesso em eloqua_2023_EmailOpen_2.xlsx!\n",
      "Logs salvos com sucesso em eloqua_2023_EmailOpen_3.xlsx!\n",
      "Logs salvos com sucesso em eloqua_2023_EmailOpen_4.xlsx!\n",
      "Logs salvos com sucesso em eloqua_2023_EmailOpen_5.xlsx!\n"
     ]
    }
   ],
   "source": [
    "import os\n",
    "import requests\n",
    "from dotenv import load_dotenv\n",
    "from openpyxl import Workbook\n",
    "\n",
    "# Carregar variáveis de ambiente\n",
    "load_dotenv()\n",
    "\n",
    "# Obter as variáveis de ambiente\n",
    "eloqua_username = os.getenv(\"ELOQUA_USERNAME_LALEY\")\n",
    "eloqua_password = os.getenv(\"ELOQUA_PASSWORD_LALEY\")\n",
    "\n",
    "# Substitua pelo seu URL base da Eloqua\n",
    "base_url = \"https://secure.p03.eloqua.com\"\n",
    "\n",
    "url = f\"{base_url}/api/bulk/2.0/syncs/8244334/data\"\n",
    "offset = 0\n",
    "limit = 1000\n",
    "total_results = float('inf')\n",
    "all_items = []\n",
    "\n",
    "while offset < total_results:\n",
    "    params = {\n",
    "        \"limit\": limit,\n",
    "        \"offset\": offset\n",
    "    }\n",
    "\n",
    "    # Adicionar autenticação ao cabeçalho da solicitação\n",
    "    auth = (eloqua_username, eloqua_password)\n",
    "\n",
    "    response = requests.get(url, params=params, auth=auth)\n",
    "\n",
    "    if response.status_code == 200:\n",
    "        data = response.json()\n",
    "        total_results = data[\"totalResults\"]\n",
    "        offset += limit\n",
    "        all_items.extend(data[\"items\"])\n",
    "    else:\n",
    "        print(f\"Erro na solicitação. Código de status: {response.status_code}\")\n",
    "        break\n",
    "\n",
    "# Função para salvar os dados em um arquivo XLSX\n",
    "\n",
    "\n",
    "def save_to_excel(data, filename):\n",
    "    wb = Workbook()\n",
    "    ws = wb.active\n",
    "\n",
    "    # Escrever cabeçalhos\n",
    "    csv_columns = data[0].keys()\n",
    "    for i, col_name in enumerate(csv_columns):\n",
    "        ws.cell(row=1, column=i+1).value = col_name\n",
    "\n",
    "    # Escrever dados\n",
    "    for row_num, item in enumerate(data, start=2):\n",
    "        for col_num, value in enumerate(item.values()):\n",
    "            ws.cell(row=row_num, column=col_num+1).value = value\n",
    "\n",
    "    # Salvar arquivo\n",
    "    wb.save(filename)\n",
    "\n",
    "    print(f\"Logs salvos com sucesso em {filename}!\")\n",
    "\n",
    "\n",
    "# Definir o limite máximo de linhas por arquivo\n",
    "max_rows_per_file = 1000000\n",
    "\n",
    "# Dividir os dados em lotes para salvar em vários arquivos\n",
    "for i in range(0, len(all_items), max_rows_per_file):\n",
    "    data = all_items[i:i+max_rows_per_file]\n",
    "    file_number = i // max_rows_per_file + 1\n",
    "    filename = f\"eloqua_2023_EmailOpen_{file_number}.xlsx\"\n",
    "    save_to_excel(data, filename)"
   ]
  },
  {
   "cell_type": "markdown",
   "metadata": {},
   "source": []
  },
  {
   "cell_type": "markdown",
   "metadata": {},
   "source": []
  }
 ],
 "metadata": {
  "kernelspec": {
   "display_name": "Python 3",
   "language": "python",
   "name": "python3"
  },
  "language_info": {
   "codemirror_mode": {
    "name": "ipython",
    "version": 3
   },
   "file_extension": ".py",
   "mimetype": "text/x-python",
   "name": "python",
   "nbconvert_exporter": "python",
   "pygments_lexer": "ipython3",
   "version": "3.11.9"
  }
 },
 "nbformat": 4,
 "nbformat_minor": 2
}

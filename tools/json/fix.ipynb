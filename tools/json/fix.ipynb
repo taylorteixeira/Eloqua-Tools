{
 "cells": [
  {
   "cell_type": "code",
   "execution_count": 4,
   "metadata": {},
   "outputs": [
    {
     "name": "stdout",
     "output_type": "stream",
     "text": [
      "JSON filtrado e salvo como 'arquivo_filtrado.json'.\n"
     ]
    }
   ],
   "source": [
    "import json\n",
    "\n",
    "def filtrar_json(nome_arquivo):\n",
    "    try:\n",
    "        with open(nome_arquivo, 'r', encoding='utf-8') as arquivo:\n",
    "            dados = json.load(arquivo)\n",
    "\n",
    "        dados_filtrados = []\n",
    "\n",
    "        for item in dados:\n",
    "            # Verifica os critérios de filtragem: type = Action, isDisabled = false, action = Update ou Create\n",
    "            if item.get('type') == 'Action' and item.get('isDisabled') == False and item.get('action') in ['Update', 'Create']:\n",
    "                if 'mappings' in item and isinstance(item['mappings'], str):\n",
    "                    try:\n",
    "                        item['mappings'] = json.loads(item['mappings'])\n",
    "                    except json.JSONDecodeError as e:\n",
    "                        print(f\"Erro ao decodificar a string 'mappings': {e}\")\n",
    "                \n",
    "                # Mantém apenas os campos solicitados\n",
    "                item_filtrado = {\n",
    "                    \"id\": item.get(\"id\"),\n",
    "                    \"name\": item.get(\"name\"),\n",
    "                    \"isDisabled\": item.get(\"isDisabled\"),\n",
    "                    \"type\": item.get(\"type\"),\n",
    "                    \"action\": item.get(\"action\"),\n",
    "                    \"mappings\": item.get(\"mappings\")\n",
    "                }\n",
    "\n",
    "                # Adiciona o item filtrado à lista\n",
    "                dados_filtrados.append(item_filtrado)\n",
    "\n",
    "        # Formatando o JSON filtrado\n",
    "        json_filtrado = json.dumps(dados_filtrados, indent=4, ensure_ascii=False)\n",
    "\n",
    "        # Salvando o JSON filtrado em um novo arquivo\n",
    "        with open('arquivo_filtrado.json', 'w', encoding='utf-8') as arquivo_filtrado:\n",
    "            arquivo_filtrado.write(json_filtrado)\n",
    "        \n",
    "        print(\"JSON filtrado e salvo como 'arquivo_filtrado.json'.\")\n",
    "\n",
    "    except json.JSONDecodeError as e:\n",
    "        print(f\"Erro ao decodificar o JSON: {e}\")\n",
    "    except FileNotFoundError:\n",
    "        print(\"Arquivo não encontrado. Verifique o nome e tente novamente.\")\n",
    "    except Exception as e:\n",
    "        print(f\"Ocorreu um erro: {e}\")\n",
    "\n",
    "# Nome do arquivo JSON na mesma pasta\n",
    "nome_arquivo = 'New_Request-1729695064865.json'\n",
    "filtrar_json(nome_arquivo)\n"
   ]
  }
 ],
 "metadata": {
  "kernelspec": {
   "display_name": "Python 3",
   "language": "python",
   "name": "python3"
  },
  "language_info": {
   "codemirror_mode": {
    "name": "ipython",
    "version": 3
   },
   "file_extension": ".py",
   "mimetype": "text/x-python",
   "name": "python",
   "nbconvert_exporter": "python",
   "pygments_lexer": "ipython3",
   "version": "3.12.7"
  }
 },
 "nbformat": 4,
 "nbformat_minor": 2
}

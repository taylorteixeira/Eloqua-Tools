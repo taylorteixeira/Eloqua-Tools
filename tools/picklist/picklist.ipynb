{
 "cells": [
  {
   "cell_type": "code",
   "execution_count": 1,
   "metadata": {},
   "outputs": [
    {
     "name": "stdout",
     "output_type": "stream",
     "text": [
      "Planilha 'picklist.xlsx' criada com sucesso!\n"
     ]
    },
    {
     "ename": "",
     "evalue": "",
     "output_type": "error",
     "traceback": [
      "\u001b[1;31mThe Kernel crashed while executing code in the current cell or a previous cell. \n",
      "\u001b[1;31mPlease review the code in the cell(s) to identify a possible cause of the failure. \n",
      "\u001b[1;31mClick <a href='https://aka.ms/vscodeJupyterKernelCrash'>here</a> for more info. \n",
      "\u001b[1;31mView Jupyter <a href='command:jupyter.viewOutput'>log</a> for further details."
     ]
    }
   ],
   "source": [
    "import requests\n",
    "from requests.auth import HTTPBasicAuth\n",
    "import os\n",
    "from dotenv import load_dotenv\n",
    "import pandas as pd\n",
    "import datetime\n",
    "\n",
    "def convert_unix_timestamp(timestamp):\n",
    "    dt = datetime.datetime.utcfromtimestamp(timestamp)\n",
    "    return dt.strftime('%m/%d/%Y')\n",
    "\n",
    "# Carregue as variáveis de ambiente a partir do arquivo .env\n",
    "load_dotenv()\n",
    "username = os.getenv(\"ELOQUA_USERNAME\")\n",
    "password = os.getenv(\"ELOQUA_PASSWORD\")\n",
    "\n",
    "base_url = \"https://secure.p04.eloqua.com\"  # Substitua YOUR_ELOQUA_INSTANCE pelo nome da sua instância do Eloqua\n",
    "\n",
    "# Autenticação usando nome de usuário e senha\n",
    "auth = HTTPBasicAuth(username, password)\n",
    "\n",
    "# Inicialize uma lista para armazenar os dados\n",
    "data_list = []\n",
    "\n",
    "page = 1\n",
    "\n",
    "response = requests.get(f\"{base_url}/api/REST/1.0/assets/optionLists?page={page}&depth%20=partial\", auth=auth)\n",
    "if response.status_code == 200:\n",
    "    response_json = response.json()\n",
    "    total_pages = (response_json.get(\"total\") // response_json.get(\"pageSize\")) + 1\n",
    "\n",
    "    while page <= total_pages:\n",
    "        response = requests.get(f\"{base_url}/api/REST/1.0/assets/optionLists?page={page}&depth%20=partial\", auth=auth)\n",
    "\n",
    "        if response.status_code == 200:\n",
    "            # Analise o JSON da resposta\n",
    "            response_json = response.json()\n",
    "            for item in response_json['elements']:\n",
    "                id = item.get('id', None)\n",
    "                name = item.get('name', None)\n",
    "                createdAt = item.get('createdAt', None)\n",
    "                if createdAt is not None:\n",
    "                    createdAt = convert_unix_timestamp(int(createdAt))  # Converta para número \n",
    "                data_list.append([id, name, createdAt])\n",
    "\n",
    "            page += 1\n",
    "        else:\n",
    "            print(\"Falha na solicitação à API.\")\n",
    "            break\n",
    "\n",
    "    # Crie um DataFrame pandas com os dados\n",
    "    df = pd.DataFrame(data_list, columns=['id', 'name', 'createdAt'])\n",
    "    df.to_excel('picklist.xlsx', index=False)\n",
    "\n",
    "    print(\"Planilha 'picklist.xlsx' criada com sucesso!\")\n",
    "else:\n",
    "    print(\"Falha na solicitação à API.\")\n"
   ]
  }
 ],
 "metadata": {
  "kernelspec": {
   "display_name": "Python 3",
   "language": "python",
   "name": "python3"
  },
  "language_info": {
   "codemirror_mode": {
    "name": "ipython",
    "version": 3
   },
   "file_extension": ".py",
   "mimetype": "text/x-python",
   "name": "python",
   "nbconvert_exporter": "python",
   "pygments_lexer": "ipython3",
   "version": "3.11.8"
  }
 },
 "nbformat": 4,
 "nbformat_minor": 2
}

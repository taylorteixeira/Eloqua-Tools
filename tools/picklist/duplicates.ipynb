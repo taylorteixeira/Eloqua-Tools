{
 "cells": [
  {
   "cell_type": "code",
   "execution_count": 1,
   "metadata": {},
   "outputs": [],
   "source": [
    "!pip install xlrd>=2.0.1\n"
   ]
  },
  {
   "cell_type": "code",
   "execution_count": 3,
   "metadata": {},
   "outputs": [
    {
     "name": "stdout",
     "output_type": "stream",
     "text": [
      "Dados processados com sucesso. Nova planilha criada em: output.xlsx\n"
     ]
    }
   ],
   "source": [
    "import pandas as pd\n",
    "from tkinter import filedialog\n",
    "\n",
    "\n",
    "def upload_file():\n",
    "    file_path = filedialog.askopenfilename()\n",
    "    return file_path\n",
    "\n",
    "\n",
    "# Obter o caminho do arquivo\n",
    "file_path = upload_file()\n",
    "\n",
    "# Verificar se o caminho do arquivo está vazio\n",
    "if file_path:\n",
    "    try:\n",
    "        # Ler dados do arquivo Excel\n",
    "        df = pd.read_excel(file_path)\n",
    "\n",
    "        # Remover duplicatas nas colunas 'Organization Type', 'Country', e 'Hidden-SFDC: Product/Solution of Interest'\n",
    "        unique_org_type = df['Organization Type'].drop_duplicates()\n",
    "        unique_country = df['Country'].drop_duplicates()\n",
    "        unique_product_solution = df['Hidden-SFDC: Product/Solution of Interest'].drop_duplicates()\n",
    "\n",
    "        # Criar uma nova planilha com os nomes sem repetir em todas as colunas\n",
    "        new_excel_path = 'output.xlsx'\n",
    "        with pd.ExcelWriter(new_excel_path, engine='xlsxwriter') as writer:\n",
    "            unique_org_type.to_excel(\n",
    "                writer, sheet_name='Unique_Data', index=False, header='Organization Type')\n",
    "            unique_country.to_excel(\n",
    "                writer, sheet_name='Unique_Data', startcol=1, index=False, header='Country')\n",
    "            unique_product_solution.to_excel(\n",
    "                writer, sheet_name='Unique_Data', startcol=2, index=False, header='Product/Solution of Interest')\n",
    "\n",
    "        print(\"Dados processados com sucesso. Nova planilha criada em:\", new_excel_path)\n",
    "\n",
    "    except Exception as e:\n",
    "        print(\"Erro ao processar o arquivo:\", e)\n",
    "else:\n",
    "    print(\"Nenhum arquivo selecionado. Operação cancelada.\")"
   ]
  }
 ],
 "metadata": {
  "kernelspec": {
   "display_name": "Python 3",
   "language": "python",
   "name": "python3"
  },
  "language_info": {
   "codemirror_mode": {
    "name": "ipython",
    "version": 3
   },
   "file_extension": ".py",
   "mimetype": "text/x-python",
   "name": "python",
   "nbconvert_exporter": "python",
   "pygments_lexer": "ipython3",
   "version": "3.11.8"
  }
 },
 "nbformat": 4,
 "nbformat_minor": 2
}
